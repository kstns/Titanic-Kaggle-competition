{
 "cells": [
  {
   "cell_type": "markdown",
   "metadata": {},
   "source": [
    "## **Titanic Kaggle competition, XGBoost, public score 0.79425 (top 6%)**\n",
    "<br>\n",
    "\n",
    "**The main idea that worked for me was to group passengers based on ticket number and further break men and women with kids to calculate survival rate for each subgroup. Aslo to recalculate fare - divide fare by number of people in the group. This is it. Now i will provide more details on the above.**\n",
    "<br>\n",
    "<br>\n",
    "\n",
    "First i tried grouping by ticket number and got poor results. Overall survival rate for men is much lower that of the women and kids. That's why every group needs to be split by this characteristic. If someone from the same group survived that should increase survival chances for other people. Interesting that sometimes last names of the people in the same group differ. I guess people were travelling with friends.\n",
    "<br>\n",
    "\n",
    "Male kids can be easily identified by title 'Master' in case age in missing. Sex3 variable split population into men and women with kids.\n",
    "<br>\n",
    "\n",
    "Then fare should be recalculated based on size of each group. After doing that fare distribution by pclass starts making sense.\n",
    "<br>\n",
    "\n",
    "There are passengers travelling on their own or travelling in groups without anyone being present in the train dataset for example. In those situations survival rate will be assigned based on pclass and new sex variable (men vs women/kids).\n",
    "<br>\n",
    "<br>\n",
    "\n",
    "Age information didn't work for me:\n",
    "<br>\n",
    "\n",
    "I also tried to populate age using other variables such as pclass, title and whether passenger is travelling with someone else. Kids can't travel on their own so median age for title 'Miss' will be different for passengers in groups and not in groups. Unfortunately age variable didn't help to improve results.\n",
    "<br>\n",
    "<br>\n",
    "\n",
    "I tried several ML techniques but xgboost came out the winner. Variables that gave the best result are:\n",
    "<br>\n",
    "\n",
    "\n",
    "**Pclass, Sex3_t(men vs women with kids), survival_rate_final, Fare_new**"
   ]
  },
  {
   "cell_type": "code",
   "execution_count": null,
   "metadata": {},
   "outputs": [],
   "source": [
    "import numpy as np\n",
    "import pandas as pd\n",
    "import seaborn as sns\n",
    "import matplotlib.pyplot as plt\n",
    "plt.style.use('classic')\n",
    "from matplotlib.ticker import PercentFormatter\n",
    "import re\n",
    "pd.set_option('display.max_columns', None)"
   ]
  },
  {
   "cell_type": "code",
   "execution_count": null,
   "metadata": {},
   "outputs": [],
   "source": [
    "train = pd.read_csv('../input/titanic/train.csv')\n",
    "test = pd.read_csv('../input/titanic/test.csv')"
   ]
  },
  {
   "cell_type": "markdown",
   "metadata": {},
   "source": [
    "<br>\n",
    "<br>\n",
    "\n",
    "#### Extracting last names and titles"
   ]
  },
  {
   "cell_type": "code",
   "execution_count": null,
   "metadata": {
    "scrolled": true
   },
   "outputs": [],
   "source": [
    "train['train'] = 1\n",
    "test['train'] = 0\n",
    "train_test = pd.concat((train, test))\n",
    "train_test['Last_name'] = train_test.Name.apply(lambda x: x.split(',')[0])\n",
    "train_test['Title'] = train_test.Name.apply(lambda x: x.split(',')[1].split('.')[0][1:])"
   ]
  },
  {
   "cell_type": "markdown",
   "metadata": {},
   "source": [
    "<br>\n",
    "<br>\n",
    "\n",
    "#### New variable Sex2 separates kids out of males population using age and title. Sex3 just combines 'young males' with females"
   ]
  },
  {
   "cell_type": "code",
   "execution_count": null,
   "metadata": {},
   "outputs": [],
   "source": [
    "train_test['Sex2'] = train_test.Sex\n",
    "train_test.loc[(train_test.Sex == 'male')&((train_test.Age < 11)|(train_test.Title == ' Master')), 'Sex2'] = 'young male'\n",
    "train_test['Sex3'] = train_test.Sex2\n",
    "train_test.loc[(train_test.Sex2 == 'female')|(train_test.Sex2 == 'young male'), 'Sex3'] = 'female/kids'"
   ]
  },
  {
   "cell_type": "markdown",
   "metadata": {},
   "source": [
    "<br>\n",
    "<br>\n",
    "\n",
    "#### This code organizes females into 2 groups 'Miss' and 'Mrs' so missing age variable can be populated later more accurately based on this information."
   ]
  },
  {
   "cell_type": "code",
   "execution_count": null,
   "metadata": {},
   "outputs": [],
   "source": [
    "def title2(x):\n",
    "    if x['Sex2'] == 'female' and x['Title'] in ['Miss', 'Lady', 'Mlle', 'Ms']:\n",
    "        return 'Miss'\n",
    "    elif x['Sex2'] == 'female':\n",
    "        return 'Mrs'\n",
    "    elif x['Sex2'] == 'male':\n",
    "        return 'Mr'\n",
    "    else:\n",
    "        return x['Title']\n",
    "train_test['Title2'] = train_test.apply(title2, axis=1)"
   ]
  },
  {
   "cell_type": "markdown",
   "metadata": {},
   "source": [
    "<br>\n",
    "<br>\n",
    "\n",
    "#### The below part calculates survival rates per group. Groups are based on same ticket values and Sex3 variable. Meaning that men were separated from women and kids. \n",
    "\n",
    "#### If someone from some group survived then other people from their group should have higher survival chances. Again, men and women/kids are evaluated separately even if they travel in the same group."
   ]
  },
  {
   "cell_type": "code",
   "execution_count": null,
   "metadata": {},
   "outputs": [],
   "source": [
    "train_test['male_train'] = np.where((train_test.Sex3 == 'male')&(train_test.train == 1), 1, 0)\n",
    "train_test['fk_train'] = np.where((train_test.Sex3 == 'female/kids')&(train_test.train == 1), 1, 0)\n",
    "\n",
    "train_test['Survived_m'] = train_test.Survived\n",
    "train_test.loc[(train_test.Sex3 != 'male')&(train_test.Survived == 1), 'Survived_m'] = 0\n",
    "train_test['Survived_fk'] = train_test.Survived\n",
    "train_test.loc[(train_test.Sex3 != 'female/kids')&(train_test.Survived == 1), 'Survived_fk'] = 0"
   ]
  },
  {
   "cell_type": "code",
   "execution_count": null,
   "metadata": {},
   "outputs": [],
   "source": [
    "# Ingroup means ticket number is not unique - passenger is travelling with someone else\n",
    "# There are groups of passengers that are 100% in test dataset only\n",
    "# I will assign average survival rate for ingroup passengers to those\n",
    "# Passengers that are not in any group, travelling alone will be assigned average survival rate of that population\n",
    "group = train_test.groupby('Ticket').agg(\n",
    "    total = ('train', \"count\"),\n",
    "    train_total = ('train', \"sum\"),\n",
    "    survived = ('Survived', \"sum\"),\n",
    "    male_train = ('male_train', \"sum\"),\n",
    "    fk_train = ('fk_train', \"sum\"),\n",
    "    Survived_m = ('Survived_m', \"sum\"),\n",
    "    Survived_fk = ('Survived_fk', \"sum\"))\n",
    "\n",
    "group = group[group.total > 1].copy()\n",
    "group['train_p'] = group.train_total/group.total\n",
    "group['survival_rate'] = group.survived/group.train_total\n",
    "group['survival_rate_m'] = group.Survived_m/group.male_train\n",
    "group['survival_rate_fk'] = group.Survived_fk/group.fk_train\n",
    "\n",
    "group.drop(columns = ['train_total','survived','male_train','fk_train','Survived_m','Survived_fk'], inplace=True)\n",
    "train_test = train_test.merge(group, how='left', left_on='Ticket', right_index=True)\n",
    "train_test['Ingroup'] = 1\n",
    "train_test.loc[train_test.total.isnull(), 'Ingroup'] = 0"
   ]
  },
  {
   "cell_type": "code",
   "execution_count": null,
   "metadata": {},
   "outputs": [],
   "source": [
    "def survival_rate_final(x):\n",
    "    if x['Sex3'] == 'male':\n",
    "        return x['survival_rate_m']\n",
    "    else:\n",
    "        return x['survival_rate_fk']\n",
    "\n",
    "train_test['survival_rate_final'] = train_test.apply(survival_rate_final, axis=1)"
   ]
  },
  {
   "cell_type": "markdown",
   "metadata": {},
   "source": [
    "<br>\n",
    "<br>\n",
    "\n",
    "#### There are passengers with unique ticket number so they are travelling on their own. Also there are passengers travelling with a group but everyone is in the test dataset so the group survival rate can not be calculated. I am going to assign 'general' survival rate for those based on Sex3 (male, female/kids) and pclass as it seems to be driven by these variables."
   ]
  },
  {
   "cell_type": "code",
   "execution_count": null,
   "metadata": {
    "scrolled": true
   },
   "outputs": [],
   "source": [
    "train_test[train_test.survival_rate_final.isna()].groupby(['Ingroup','Sex3']).PassengerId.count()"
   ]
  },
  {
   "cell_type": "code",
   "execution_count": null,
   "metadata": {},
   "outputs": [],
   "source": [
    "group = train_test[train_test.train == 1].groupby(['Sex3','Pclass'], as_index=False).Survived.mean()\n",
    "group = group.rename(columns={'Survived':'survival_rate_general'})\n",
    "train_test = train_test.merge(group, how='left', on=['Sex3','Pclass'])"
   ]
  },
  {
   "cell_type": "code",
   "execution_count": null,
   "metadata": {
    "scrolled": true
   },
   "outputs": [],
   "source": [
    "group"
   ]
  },
  {
   "cell_type": "markdown",
   "metadata": {},
   "source": [
    "<br>\n",
    "<br>\n",
    "\n",
    "#### Survival_rate_final2 is the field that will be used for predicting."
   ]
  },
  {
   "cell_type": "code",
   "execution_count": null,
   "metadata": {},
   "outputs": [],
   "source": [
    "train_test['survival_rate_final2'] = train_test.survival_rate_final\n",
    "train_test.loc[train_test.survival_rate_final.isna(), 'survival_rate_final2'] = train_test[train_test.survival_rate_final.isna()].survival_rate_general"
   ]
  },
  {
   "cell_type": "code",
   "execution_count": null,
   "metadata": {
    "scrolled": true
   },
   "outputs": [],
   "source": [
    "train_test[train_test.train == 0].groupby(['Sex3','Ingroup','survival_rate_final2']).PassengerId.count()"
   ]
  },
  {
   "cell_type": "markdown",
   "metadata": {},
   "source": [
    "<br>\n",
    "<br>\n",
    "\n",
    "#### Changing variable name"
   ]
  },
  {
   "cell_type": "code",
   "execution_count": null,
   "metadata": {},
   "outputs": [],
   "source": [
    "train_test.survival_rate_final = train_test.survival_rate_final2\n",
    "train_test.drop(columns='survival_rate_final2', inplace=True)"
   ]
  },
  {
   "cell_type": "markdown",
   "metadata": {},
   "source": [
    "<br>\n",
    "<br>\n",
    "**Age variable didn't help to improve the results so this part can be skipped.**"
   ]
  },
  {
   "cell_type": "code",
   "execution_count": null,
   "metadata": {},
   "outputs": [],
   "source": [
    "# Age_median - assign median age by pclass for male where age is missing\n",
    "train_test = train_test.merge(\n",
    "    train_test[train_test.Sex2 == 'male'].groupby(['Sex2','Pclass']).agg(Age_median=('Age', 'median')), \n",
    "    how='left', left_on=['Sex2','Pclass'], right_index=True)\n",
    "\n",
    "train_test.loc[(train_test.Sex2 == 'male')&(~train_test.Age.isnull()), 'Age_median'] = \\\n",
    "    train_test.loc[(train_test.Sex2 == 'male')&(~train_test.Age.isnull()), 'Age']"
   ]
  },
  {
   "cell_type": "markdown",
   "metadata": {},
   "source": [
    "<br>\n",
    "<br>\n",
    "\n",
    "#### To assign age for women i derive some insights from title and whether passenger is travelling in a group or on its own (Ingroup variable). I have noticed that title 'Miss' travelling in a group has a mix of kids and young females so median age is lower. If passenger with this title is travelling on its own then median age is higher as kids would not be allowed to travel alone."
   ]
  },
  {
   "cell_type": "markdown",
   "metadata": {},
   "source": []
  },
  {
   "cell_type": "code",
   "execution_count": null,
   "metadata": {},
   "outputs": [],
   "source": [
    "# Age_median2 - assign median age by pclass for female title Mrs where age is missing\n",
    "train_test = train_test.merge(\n",
    "    train_test[(train_test.Sex2 == 'female')&(train_test.Title2 == 'Mrs')].groupby(['Sex2','Title2','Pclass']).agg(Age_median2=('Age', 'median')), \n",
    "    how='left', left_on=['Sex2','Title2','Pclass'], right_index=True)\n",
    "\n",
    "train_test.loc[(train_test.Sex2 == 'female')&(train_test.Title2 == 'Mrs')&(~train_test.Age.isnull()), 'Age_median2'] = \\\n",
    "    train_test.loc[(train_test.Sex2 == 'female')&(train_test.Title2 == 'Mrs')&(~train_test.Age.isnull()), 'Age']"
   ]
  },
  {
   "cell_type": "code",
   "execution_count": null,
   "metadata": {},
   "outputs": [],
   "source": [
    "# Age_median3 - assign median age by pclass and Ingroup for female title Miss where age is missing\n",
    "train_test = train_test.merge(\n",
    "    train_test[(train_test.Sex2 == 'female')&(train_test.Title2 == 'Miss')].groupby(['Sex2','Title2','Pclass','Ingroup']).agg(Age_median3=('Age', 'median')), \n",
    "    how='left', left_on=['Sex2','Title2','Pclass','Ingroup'], right_index=True)\n",
    "\n",
    "train_test.loc[(train_test.Sex2 == 'female')&(train_test.Title2 == 'Miss')&(~train_test.Age.isnull()), 'Age_median3'] = \\\n",
    "    train_test.loc[(train_test.Sex2 == 'female')&(train_test.Title2 == 'Miss')&(~train_test.Age.isnull()), 'Age']"
   ]
  },
  {
   "cell_type": "code",
   "execution_count": null,
   "metadata": {},
   "outputs": [],
   "source": [
    "# Age_median is new field without missing values\n",
    "train_test.loc[train_test.Age_median.isnull(), 'Age_median'] = train_test.loc[train_test.Age_median.isnull(), 'Age_median2']\n",
    "train_test.loc[train_test.Age_median.isnull(), 'Age_median'] = train_test.loc[train_test.Age_median.isnull(), 'Age_median3']\n",
    "train_test.loc[train_test.Age_median.isnull(), 'Age_median'] = train_test.loc[train_test.Age_median.isnull(), 'Age'] \n",
    "train_test.drop(columns=['Age_median2','Age_median3'], inplace=True)"
   ]
  },
  {
   "cell_type": "markdown",
   "metadata": {},
   "source": [
    "<br>\n",
    "<br>\n",
    "\n",
    "#### There is just one missing value for Fare variable"
   ]
  },
  {
   "cell_type": "code",
   "execution_count": null,
   "metadata": {},
   "outputs": [],
   "source": [
    "train_test.total.fillna(1, inplace=True)\n",
    "train_test['Fare_new'] =  train_test.Fare/train_test.total\n",
    "train_test.loc[train_test.Fare.isnull(), 'Fare_new'] = \\\n",
    "    train_test[train_test.Pclass == 3].Fare.median()/train_test.loc[train_test.Fare.isnull(), 'total']"
   ]
  },
  {
   "cell_type": "markdown",
   "metadata": {},
   "source": [
    "<br>\n",
    "<br>\n",
    "\n",
    "**Multiple models were tested but xgboost performed the best.**"
   ]
  },
  {
   "cell_type": "code",
   "execution_count": null,
   "metadata": {},
   "outputs": [],
   "source": [
    "import xgboost as xgb\n",
    "from xgboost.sklearn import XGBClassifier\n",
    "from sklearn import preprocessing\n",
    "from sklearn.model_selection import GridSearchCV"
   ]
  },
  {
   "cell_type": "code",
   "execution_count": null,
   "metadata": {},
   "outputs": [],
   "source": [
    "le = preprocessing.LabelEncoder()\n",
    "le.fit(train_test['Sex3'])\n",
    "train_test['Sex3_t'] = le.transform(train_test['Sex3'])\n",
    "print(\"Sex3:\", train_test.Sex3_t.unique(), le.inverse_transform(train_test.Sex3_t.unique()))"
   ]
  },
  {
   "cell_type": "code",
   "execution_count": null,
   "metadata": {},
   "outputs": [],
   "source": [
    "columns = ['Pclass','Sex3_t','survival_rate_final','Fare_new']\n",
    "x = train_test[train_test.train == 1][columns]\n",
    "y = train_test[train_test.train == 1].Survived"
   ]
  },
  {
   "cell_type": "markdown",
   "metadata": {},
   "source": [
    "**Simple gridsearchcv was used to tune the model and identify best hyper parameters which are used below for training.**"
   ]
  },
  {
   "cell_type": "code",
   "execution_count": null,
   "metadata": {},
   "outputs": [],
   "source": [
    "clf = xgb.XGBClassifier(\n",
    "     gamma=0.1,\n",
    "     learning_rate=0.2,\n",
    "     max_depth=3,\n",
    "     min_child_weight=6,\n",
    "     n_estimators=100,\n",
    "     reg_alpha=0,\n",
    "     reg_lambda=3.5,\n",
    "     subsample=0.6)\n",
    "clf.fit(x, y)"
   ]
  },
  {
   "cell_type": "code",
   "execution_count": null,
   "metadata": {},
   "outputs": [],
   "source": [
    "pred = clf.predict(train_test[train_test.train == 0][columns]).astype(int)\n",
    "submission = pd.DataFrame({'PassengerId':train_test[train_test.train == 0].PassengerId, 'Survived':pred})"
   ]
  },
  {
   "cell_type": "code",
   "execution_count": null,
   "metadata": {},
   "outputs": [],
   "source": [
    "submission.to_csv('/kaggle/working/titanic_submission_gb.csv', index=False)"
   ]
  }
 ],
 "metadata": {
  "kernelspec": {
   "display_name": "Python 3 (ipykernel)",
   "language": "python",
   "name": "python3"
  },
  "language_info": {
   "codemirror_mode": {
    "name": "ipython",
    "version": 3
   },
   "file_extension": ".py",
   "mimetype": "text/x-python",
   "name": "python",
   "nbconvert_exporter": "python",
   "pygments_lexer": "ipython3",
   "version": "3.7.7"
  },
  "varInspector": {
   "cols": {
    "lenName": 16,
    "lenType": 16,
    "lenVar": 40
   },
   "kernels_config": {
    "python": {
     "delete_cmd_postfix": "",
     "delete_cmd_prefix": "del ",
     "library": "var_list.py",
     "varRefreshCmd": "print(var_dic_list())"
    },
    "r": {
     "delete_cmd_postfix": ") ",
     "delete_cmd_prefix": "rm(",
     "library": "var_list.r",
     "varRefreshCmd": "cat(var_dic_list()) "
    }
   },
   "types_to_exclude": [
    "module",
    "function",
    "builtin_function_or_method",
    "instance",
    "_Feature"
   ],
   "window_display": false
  }
 },
 "nbformat": 4,
 "nbformat_minor": 4
}
